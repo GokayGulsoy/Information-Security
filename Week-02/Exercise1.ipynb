{
 "cells": [
  {
   "cell_type": "code",
   "execution_count": 18,
   "metadata": {},
   "outputs": [
    {
     "name": "stdout",
     "output_type": "stream",
     "text": [
      "Cipher text after encryption is:  jdxo lv glylghg lqwr wkuhh sduwv\n"
     ]
    }
   ],
   "source": [
    "plaintext = \"gaul is divided into three parts\"\n",
    "\n",
    "# function for encryption\n",
    "def ceaser_encryption(plaintext,key):\n",
    "     alphabet = [\"a\",\"b\",\"c\",\"d\",\"e\",\"f\",\"g\",\"h\",\"i\",\"j\",\n",
    "                 \"k\",\"l\",\"m\",\"n\",\"o\",\"p\",\"q\",\"r\",\"s\",\"t\",\"u\",\"v\",\"w\",\"x\",\"y\",\"z\"]\n",
    "     \n",
    "     cipher_text = \"\"\n",
    "     for char in plaintext:\n",
    "          if char != \" \":\n",
    "               plain_char = char.lower()\n",
    "               plain_index = alphabet.index(plain_char)\n",
    "               cipher_char = alphabet[(plain_index+key)%26]\n",
    "               cipher_text += cipher_char\n",
    "          \n",
    "          else:\n",
    "               cipher_text += \" \"\n",
    "     # at the end of the for loop we will get the cipher text\n",
    "     return cipher_text          \n",
    "\n",
    "cipher_text = ceaser_encryption(plaintext,3)\n",
    "print(\"Cipher text after encryption is: \",cipher_text)"
   ]
  },
  {
   "cell_type": "code",
   "execution_count": 19,
   "metadata": {},
   "outputs": [
    {
     "name": "stdout",
     "output_type": "stream",
     "text": [
      "Plain text after decryption is:  gaul is divided into three parts\n"
     ]
    }
   ],
   "source": [
    "cipher_text = ceaser_encryption(\"gaul is divided into three parts\", 3)\n",
    "\n",
    "# function for encryption\n",
    "def ceaser_decryption(cipher_text,key):\n",
    "     alphabet = [\"a\",\"b\",\"c\",\"d\",\"e\",\"f\",\"g\",\"h\",\"i\",\"j\",\n",
    "                 \"k\",\"l\",\"m\",\"n\",\"o\",\"p\",\"q\",\"r\",\"s\",\"t\",\"u\",\"v\",\"w\",\"x\",\"y\",\"z\"]\n",
    "     \n",
    "     plain_text = \"\"\n",
    "     for char in cipher_text:\n",
    "          if char != \" \":\n",
    "               cipher_char = char.lower()\n",
    "               cipher_index = alphabet.index(cipher_char)\n",
    "               plain_char = alphabet[(cipher_index-key)%26]\n",
    "               plain_text += plain_char\n",
    "          \n",
    "          else:\n",
    "              plain_text += \" \"\n",
    "                  \n",
    "     # at the end of the for loop we will get the cipher text\n",
    "     return plain_text          \n",
    "\n",
    "plain_text = ceaser_decryption(cipher_text,3)\n",
    "print(\"Plain text after decryption is: \",plain_text)"
   ]
  },
  {
   "cell_type": "code",
   "execution_count": 20,
   "metadata": {},
   "outputs": [
    {
     "name": "stdout",
     "output_type": "stream",
     "text": [
      "lfzq nx inaniji nsyt ymwjj ufwyx\n",
      "Hacking trial # 1 lfzq nx inaniji nsyt ymwjj ufwyx\n",
      "Hacking trial # 2 keyp mw hmzmhih mrxs xlvii tevxw\n",
      "Hacking trial # 3 jdxo lv glylghg lqwr wkuhh sduwv\n",
      "Hacking trial # 4 icwn ku fkxkfgf kpvq vjtgg rctvu\n",
      "Hacking trial # 5 hbvm jt ejwjefe joup uisff qbsut\n",
      "Hacking trial # 6 gaul is divided into three parts\n",
      "Hacking trial # 7 fztk hr chuhcdc hmsn sgqdd ozqsr\n",
      "Hacking trial # 8 eysj gq bgtgbcb glrm rfpcc nyprq\n",
      "Hacking trial # 9 dxri fp afsfaba fkql qeobb mxoqp\n",
      "Hacking trial # 10 cwqh eo zerezaz ejpk pdnaa lwnpo\n",
      "Hacking trial # 11 bvpg dn ydqdyzy dioj ocmzz kvmon\n",
      "Hacking trial # 12 auof cm xcpcxyx chni nblyy julnm\n",
      "Hacking trial # 13 ztne bl wbobwxw bgmh makxx itkml\n",
      "Hacking trial # 14 ysmd ak vanavwv aflg lzjww hsjlk\n",
      "Hacking trial # 15 xrlc zj uzmzuvu zekf kyivv grikj\n",
      "Hacking trial # 16 wqkb yi tylytut ydje jxhuu fqhji\n",
      "Hacking trial # 17 vpja xh sxkxsts xcid iwgtt epgih\n",
      "Hacking trial # 18 uoiz wg rwjwrsr wbhc hvfss dofhg\n",
      "Hacking trial # 19 tnhy vf qvivqrq vagb guerr cnegf\n",
      "Hacking trial # 20 smgx ue puhupqp uzfa ftdqq bmdfe\n",
      "Hacking trial # 21 rlfw td otgtopo tyez escpp alced\n",
      "Hacking trial # 22 qkev sc nsfsnon sxdy drboo zkbdc\n",
      "Hacking trial # 23 pjdu rb mrermnm rwcx cqann yjacb\n",
      "Hacking trial # 24 oict qa lqdqlml qvbw bpzmm xizba\n",
      "Hacking trial # 25 nhbs pz kpcpklk puav aoyll whyaz\n",
      "Hacking trial # 26 mgar oy jobojkj otzu znxkk vgxzy\n"
     ]
    }
   ],
   "source": [
    "cipher_text = ceaser_encryption(\"gaul is divided into three parts\", 5)\n",
    "print(cipher_text)\n",
    "\n",
    "# function that breaks the ceaser cipher by exhaustive search\n",
    "def brute_force_attack(encrypted_str):\n",
    "    for key in range(0,26):\n",
    "        possible_plaintext = ceaser_decryption(encrypted_str,key)\n",
    "        print(\"Hacking trial #\",key+1,possible_plaintext)\n",
    "\n",
    "\n",
    "brute_force_attack(cipher_text)"
   ]
  },
  {
   "cell_type": "code",
   "execution_count": 36,
   "metadata": {},
   "outputs": [
    {
     "name": "stdout",
     "output_type": "stream",
     "text": [
      "Plaintext after frequency analysis is:  a oengb leel tr onl heec ia ptro ui onl pe heec roede oti sthedrb ti muss am rodenri ra nss ra bau baudiesm ra ui ra egedb ace nsni oap ionss roti hsaalb leel he ncipedel tr ptss he sntl ra ui poaie wdagtlecve ioausl onge kewr ioadr deirdntcel ncl aur am onucr roti fnl baucy fnc hur ia fuvo pni aud sage pe pausl car ucledirncl ponr pni fair mtr hur stke roe apced am n maus ltienie ra keew tr mdaf ltgusytcy ser tr meel egec ac roe wtro am stme poede ti oe yace\n"
     ]
    },
    {
     "data": {
      "image/png": "[encoded data removed]",
      "text/plain": [
       "<Figure size 432x288 with 1 Axes>"
      ]
     },
     "metadata": {
      "needs_background": "light"
     },
     "output_type": "display_data"
    }
   ],
   "source": [
    "# This code performs frequency analysis on string named corpus​\n",
    "\n",
    "import pandas as pd\n",
    "import matplotlib.pyplot as plt\n",
    "\n",
    "\n",
    "def apply_frequency_analysis(en_frequency_list,ciphertext_frequency_list,corpus):\n",
    "    \n",
    "    plain_text = \"\"\n",
    "    for letter in corpus:\n",
    "        if letter != \" \":\n",
    "            plain_letter_index = ciphertext_frequency_list.index(letter)\n",
    "            plain_text += en_frequency_list[plain_letter_index]\n",
    "        \n",
    "        else:\n",
    "            plain_text += \" \"    \n",
    "    \n",
    "    return plain_text\n",
    "\n",
    "# text to perform frequency analysis\n",
    "corpus = \"o zvfhs evve gl zfe cvvy do bglz wd zfe bv cvvy lzvjv zgd rgcvjls gd qwrr oq lzjvfld lo frr lo sow sowjdvrq lo wd lo vhvjs oyv frfd zob dzfrr lzgd crooes evve cv fydbvjve gl bgrr cv rfge lo wd bzodv njohgevypv dzowre zfhv tvnl dzojl jvdljfgyve fye owl oq zfwyl lzgd afe sowyk afy cwl do awpz bfd owj rohv bv bowre yol wyevjdlfye bzfl bfd aodl qgl cwl rgtv lzv obyvj oq f qowr egdvfdv lo tvvn gl qjoa eghwrkgyk rvl gl qvve vhvy oy lzv nglz oq rgqv bzvjv gd zv koyv\"\n",
    "eng_frequency_list = [\"q\",\"j\",\"z\",\"x\",\"v\",\"k\",\"w\",\"y\",\"f\",\"b\",\"g\",\"h\",\"m\",\"p\",\"d\",\"u\",\"c\",\"l\",\"s\",\"n\",\"t\",\"o\",\"i\",\"r\",\"a\",\"e\"]\n",
    "alphabet = \"abcdefghijklmnopqrstuvwxyz\"\n",
    "alphabet_as_list = []\n",
    "for letter in alphabet:\n",
    "    alphabet_as_list.append(letter)\n",
    "\n",
    "df = pd.DataFrame({   \n",
    "    \"letter\":alphabet_as_list,\n",
    "    \"count\":[corpus.lower().count(letter) for letter in alphabet]\n",
    "})\n",
    "\n",
    "df = df.sort_values(\"count\")\n",
    "plt.bar(df[\"letter\"],df[\"count\"])\n",
    "\n",
    "ciphertext_frequency_list = []\n",
    "for letter in df[\"letter\"]:\n",
    "    ciphertext_frequency_list.append(letter)\n",
    "       \n",
    "\n",
    "plain_text = apply_frequency_analysis(eng_frequency_list,ciphertext_frequency_list,corpus)   \n",
    "print(\"Plaintext after frequency analysis is: \",plain_text)"
   ]
  }
 ],
 "metadata": {
  "kernelspec": {
   "display_name": "Python 3",
   "language": "python",
   "name": "python3"
  },
  "language_info": {
   "codemirror_mode": {
    "name": "ipython",
    "version": 3
   },
   "file_extension": ".py",
   "mimetype": "text/x-python",
   "name": "python",
   "nbconvert_exporter": "python",
   "pygments_lexer": "ipython3",
   "version": "3.10.6"
  },
  "orig_nbformat": 4
 },
 "nbformat": 4,
 "nbformat_minor": 2
}
